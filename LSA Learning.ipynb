{
 "metadata": {
  "name": "",
  "signature": "sha256:25644898059c97cb5d8be5b8a9a934bfc6a8c4fafd8f83a6a445cdfe27255c6e"
 },
 "nbformat": 3,
 "nbformat_minor": 0,
 "worksheets": [
  {
   "cells": [
    {
     "cell_type": "code",
     "collapsed": false,
     "input": [
      "from bs4 import BeautifulSoup\n",
      "import nltk\n",
      "from nltk.corpus import stopwords\n",
      "from sklearn.feature_extraction.text import TfidfVectorizer\n",
      "from sklearn.decomposition import TruncatedSVD"
     ],
     "language": "python",
     "metadata": {},
     "outputs": [],
     "prompt_number": 1
    },
    {
     "cell_type": "code",
     "collapsed": false,
     "input": [
      "nltk.download('stopwords')"
     ],
     "language": "python",
     "metadata": {},
     "outputs": [
      {
       "output_type": "stream",
       "stream": "stdout",
       "text": [
        "[nltk_data] Downloading package stopwords to C:\\Users\\Priya\n",
        "[nltk_data]     Sundar\\AppData\\Roaming\\nltk_data...\n",
        "[nltk_data]   Package stopwords is already up-to-date!\n"
       ]
      },
      {
       "metadata": {},
       "output_type": "pyout",
       "prompt_number": 2,
       "text": [
        "True"
       ]
      }
     ],
     "prompt_number": 2
    },
    {
     "cell_type": "code",
     "collapsed": false,
     "input": [
      "    from sklearn.datasets import fetch_20newsgroups\n",
      "    categories = ['rec.sport.baseball']\n",
      "    dataset = fetch_20newsgroups(subset='all',shuffle=True, random_state=42, categories=categories)\n",
      "    corpus = dataset.data"
     ],
     "language": "python",
     "metadata": {},
     "outputs": [],
     "prompt_number": 3
    },
    {
     "cell_type": "code",
     "collapsed": false,
     "input": [
      "#soup = BeautifulSoup(corpus)\n",
      "#postTxt = soup.findAll('text')  #all posts <text> \n",
      "#postDocs = [x.text for x in postTxt]\n",
      "#postDocs.pop(0)\n",
      "#postDocs = [x.lower() for x in postDocs]\n",
      "postDocs = [x.lower() for x in corpus]"
     ],
     "language": "python",
     "metadata": {},
     "outputs": [],
     "prompt_number": 4
    },
    {
     "cell_type": "code",
     "collapsed": false,
     "input": [
      "stopset = set(stopwords.words('english'))\n",
      "stopset.update(['!', 'nntp', 'edu', \n",
      "'com', 'would', 're', 'cs', '00', 'detroit', 'american', 'jewish', 'john', 'also', 'posting', 'organization', 'university', 'ca',\n",
      "'might', 'ibm', 've', '01', 'let', 'much', 'make', '000', 'll', 'lines', 'subject', 'aix', 'nl', 'article', 'could', 'isn', 'may', 'smith', 'uiuc', 'give', 'writes'\n",
      "'think', 'netcom',  'sabo', 'williams', '000th', 'think', '0000ahc', 'udcps3', 'cps', '02', '03', '04', '05', '06', 'finley', '20', 'ted',\n",
      "'0010', 'doesn', 'writes', '001211', '001', 'lafibm', 'vb30', '002251w', 'hirschbeck'])"
     ],
     "language": "python",
     "metadata": {},
     "outputs": [],
     "prompt_number": 183
    },
    {
     "cell_type": "code",
     "collapsed": false,
     "input": [
      "#Before!\n",
      "corpus[7]"
     ],
     "language": "python",
     "metadata": {},
     "outputs": [
      {
       "metadata": {},
       "output_type": "pyout",
       "prompt_number": 184,
       "text": [
        "u\"From: gspira@nyx.cs.du.edu (Greg Spira)\\nSubject: Re: Jack Morris\\nOrganization: University of Denver, Dept. of Math & Comp. Sci.\\nLines: 42\\n\\nbwalker@bnr.ca (Barry Walker) writes:\\n\\n>In article <1993Apr19.032930.19811@ramsey.cs.laurentian.ca>, maynard@ramsey.cs.laurentian.ca (Roger Maynard) writes:\\n>|> In <1993Apr19.024222.11181@newshub.ariel.yorku.ca> cs902043@ariel.yorku.ca (SHAWN LUDDINGTON) writes:\\n>|> \\n>|> >Hey Valentine, I don't see Boston with any world series rings on their\\n>|> >fingers.  Damn, Morris now has three and probably the Hall of Fame in his \\n>|> >future.  Therefore, I would have to say Toronto easily made the best \\n>|> >signing.  And don't tell me Boston will win this year.  They won't \\n>|> >even be in the top 4 in the division, more like 6th.\\n>|>\\n\\n>In spite of what all the STAT heads say, Jack Morris played a large role in\\n>the Jays winning the World Series last year. I don't care if his era was 4.?\\n>he played a leadership role and did win 21 games. His ERA may have been high,\\n>but he did pitch many outstanding ball games.\\n\\nAnd he pitched many not-so-outstanding ballgames, too.\\n\\nJack essentially pitched a lot of .500 ball last year.  This certainly\\nisn't irrelevant, and iif you replace Morris with replacement level quality\\nthe Blue Jays might not win.\\n\\nRe leadership, I don't see it.  If the leadership effect is there for\\na starting pitcher, you would expect to see its primary effect on the\\npitching staff.  You would expect to see the rest of the staff improve.\\nInstead, the rest of the staff declined.\\n\\nYou can make a reasonable argument for Winfield providing leadership;\\nthe offense picked up considerably from its effectiveness the previous\\nyear. I'm not saying I buy that, but at least that argument makes\\ninternal sense.\\n\\nGreg \\n\\n\\n>Barry Walker\\n>BNR \\n>Ottawa\\n>Canada\\n\\n>My opinions\\n\""
       ]
      }
     ],
     "prompt_number": 184
    },
    {
     "cell_type": "code",
     "collapsed": false,
     "input": [
      "vectorizer = TfidfVectorizer(stop_words=stopset,\n",
      "                                 use_idf=True, ngram_range=(1, 3))\n",
      "X = vectorizer.fit_transform(postDocs)"
     ],
     "language": "python",
     "metadata": {},
     "outputs": [],
     "prompt_number": 185
    },
    {
     "cell_type": "code",
     "collapsed": false,
     "input": [
      "X[0]"
     ],
     "language": "python",
     "metadata": {},
     "outputs": [
      {
       "metadata": {},
       "output_type": "pyout",
       "prompt_number": 186,
       "text": [
        "<1x184440 sparse matrix of type '<type 'numpy.float64'>'\n",
        "\twith 206 stored elements in Compressed Sparse Row format>"
       ]
      }
     ],
     "prompt_number": 186
    },
    {
     "cell_type": "code",
     "collapsed": false,
     "input": [
      "#After\n",
      "print X[0]"
     ],
     "language": "python",
     "metadata": {},
     "outputs": [
      {
       "output_type": "stream",
       "stream": "stdout",
       "text": [
        "  (0, 50143)\t0.0756143101467\n",
        "  (0, 183683)\t0.0756143101467\n",
        "  (0, 27943)\t0.0756143101467\n",
        "  (0, 142799)\t0.0756143101467\n",
        "  (0, 62019)\t0.0756143101467\n",
        "  (0, 75785)\t0.0756143101467\n",
        "  (0, 129746)\t0.0756143101467\n",
        "  (0, 100642)\t0.0756143101467\n",
        "  (0, 64407)\t0.0756143101467\n",
        "  (0, 111130)\t0.0756143101467\n",
        "  (0, 159390)\t0.0756143101467\n",
        "  (0, 176998)\t0.0756143101467\n",
        "  (0, 116673)\t0.0756143101467\n",
        "  (0, 62156)\t0.0756143101467\n",
        "  (0, 101140)\t0.0756143101467\n",
        "  (0, 93711)\t0.0756143101467\n",
        "  (0, 129654)\t0.0756143101467\n",
        "  (0, 139949)\t0.0756143101467\n",
        "  (0, 96378)\t0.0756143101467\n",
        "  (0, 111860)\t0.0756143101467\n",
        "  (0, 161855)\t0.0756143101467\n",
        "  (0, 58522)\t0.0756143101467\n",
        "  (0, 50183)\t0.0756143101467\n",
        "  (0, 34880)\t0.0756143101467\n",
        "  (0, 62146)\t0.0756143101467\n",
        "  :\t:\n",
        "  (0, 163793)\t0.0465353719585\n",
        "  (0, 80352)\t0.0514647747125\n",
        "  (0, 182064)\t0.0230977356077\n",
        "  (0, 42565)\t0.0402980778775\n",
        "  (0, 31852)\t0.055205585084\n",
        "  (0, 82622)\t0.0352339236769\n",
        "  (0, 140216)\t0.0568223189524\n",
        "  (0, 118848)\t0.113644637905\n",
        "  (0, 36726)\t0.101906125967\n",
        "  (0, 39864)\t0.107610213011\n",
        "  (0, 16491)\t0.0756143101467\n",
        "  (0, 93035)\t0.113644637905\n",
        "  (0, 6909)\t0.0386298057728\n",
        "  (0, 159985)\t0.062475319631\n",
        "  (0, 47185)\t0.0399425180652\n",
        "  (0, 171185)\t0.0402980778775\n",
        "  (0, 110924)\t0.062475319631\n",
        "  (0, 155537)\t0.0383257841968\n",
        "  (0, 28464)\t0.0315154519933\n",
        "  (0, 65986)\t0.128184106999\n",
        "  (0, 50067)\t0.165616755252\n",
        "  (0, 38040)\t0.0520027392959\n",
        "  (0, 38070)\t0.0520027392959\n",
        "  (0, 97447)\t0.0509530629837\n",
        "  (0, 181097)\t0.0756143101467\n"
       ]
      }
     ],
     "prompt_number": 187
    },
    {
     "cell_type": "code",
     "collapsed": false,
     "input": [
      "X.shape"
     ],
     "language": "python",
     "metadata": {},
     "outputs": [
      {
       "metadata": {},
       "output_type": "pyout",
       "prompt_number": 188,
       "text": [
        "(994, 184440)"
       ]
      }
     ],
     "prompt_number": 188
    },
    {
     "cell_type": "code",
     "collapsed": false,
     "input": [
      "lsa = TruncatedSVD(n_components=27, n_iter=100)\n",
      "lsa.fit(X)"
     ],
     "language": "python",
     "metadata": {},
     "outputs": [
      {
       "metadata": {},
       "output_type": "pyout",
       "prompt_number": 189,
       "text": [
        "TruncatedSVD(algorithm='randomized', n_components=27, n_iter=100,\n",
        "       random_state=None, tol=0.0)"
       ]
      }
     ],
     "prompt_number": 189
    },
    {
     "cell_type": "code",
     "collapsed": false,
     "input": [
      "#This is the first row for V\n",
      "lsa.components_[0]"
     ],
     "language": "python",
     "metadata": {},
     "outputs": [
      {
       "metadata": {},
       "output_type": "pyout",
       "prompt_number": 190,
       "text": [
        "array([ 0.00031021,  0.00031021,  0.00031021, ...,  0.00116935,\n",
        "        0.00116935,  0.00116935])"
       ]
      }
     ],
     "prompt_number": 190
    },
    {
     "cell_type": "code",
     "collapsed": false,
     "input": [
      "terms = vectorizer.get_feature_names()\n",
      "for i, comp in enumerate(lsa.components_): \n",
      "    termsInComp = zip (terms,comp)\n",
      "    sortedTerms =  sorted(termsInComp, key=lambda x: x[1], reverse=True) [:10]\n",
      "    print \"Concept %d:\" % i\n",
      "    for term in sortedTerms:\n",
      "        print term[0]\n",
      "    print \" \""
     ],
     "language": "python",
     "metadata": {},
     "outputs": [
      {
       "output_type": "stream",
       "stream": "stdout",
       "text": [
        "Concept 0:\n",
        "year\n",
        "team\n",
        "game\n",
        "baseball\n",
        "games\n",
        "players\n",
        "one\n",
        "good\n",
        "last\n",
        "won\n",
        " \n",
        "Concept 1:"
       ]
      },
      {
       "output_type": "stream",
       "stream": "stdout",
       "text": [
        "\n",
        "baseball\n",
        "host\n",
        "0023 lafayette\n",
        "know\n",
        "003015\n",
        "003015 vmsb csupomona\n",
        "pretty\n",
        "003\n",
        "take\n",
        "two\n",
        " \n",
        "Concept 2:"
       ]
      },
      {
       "output_type": "stream",
       "stream": "stdout",
       "text": [
        "\n",
        "games\n",
        "clutch\n",
        "hitting\n",
        "anyone\n",
        "003015\n",
        "know\n",
        "average\n",
        "samuel\n",
        "cornell\n",
        "sox\n",
        " \n",
        "Concept 3:"
       ]
      },
      {
       "output_type": "stream",
       "stream": "stdout",
       "text": [
        "\n",
        "two\n",
        "right\n",
        "003015 vmsb csupomona\n",
        "well\n",
        "good\n",
        "got\n",
        "last\n",
        "sox\n",
        "won\n",
        "time\n",
        " \n",
        "Concept 4:"
       ]
      },
      {
       "output_type": "stream",
       "stream": "stdout",
       "text": [
        "\n",
        "game\n",
        "anyone\n",
        "pitching\n",
        "season\n",
        "team\n",
        "one\n",
        "hitter\n",
        "see\n",
        "lopez\n",
        "first\n",
        " \n",
        "Concept 5:"
       ]
      },
      {
       "output_type": "stream",
       "stream": "stdout",
       "text": [
        "\n",
        "gant\n",
        "player\n",
        "0023\n",
        "braves\n",
        "teams\n",
        "good\n",
        "two\n",
        "want\n",
        "bad\n",
        "lost\n",
        " \n",
        "Concept 6:"
       ]
      },
      {
       "output_type": "stream",
       "stream": "stdout",
       "text": [
        "\n",
        "like\n",
        "games\n",
        "alomar\n",
        "gant\n",
        "runs\n",
        "win\n",
        "michael\n",
        "one\n",
        "dave\n",
        "003\n",
        " \n",
        "Concept 7:"
       ]
      },
      {
       "output_type": "stream",
       "stream": "stdout",
       "text": [
        "\n",
        "lost\n",
        "baseball\n",
        "hitting\n",
        "year\n",
        "average\n",
        "win\n",
        "see\n",
        "10\n",
        "time\n",
        "won\n",
        " \n",
        "Concept 8:"
       ]
      },
      {
       "output_type": "stream",
       "stream": "stdout",
       "text": [
        "\n",
        "team\n",
        "players\n",
        "runs\n",
        "know\n",
        "lost\n",
        "0023\n",
        "ball\n",
        "year\n",
        "one\n",
        "clutch\n",
        " \n",
        "Concept 9:"
       ]
      },
      {
       "output_type": "stream",
       "stream": "stdout",
       "text": [
        "\n",
        "mark\n",
        "lost\n",
        "one\n",
        "003015\n",
        "games\n",
        "home\n",
        "003\n",
        "last\n",
        "good\n",
        "003015 vmsb csupomona\n",
        " \n",
        "Concept 10:"
       ]
      },
      {
       "output_type": "stream",
       "stream": "stdout",
       "text": [
        "\n",
        "first\n",
        "new\n",
        "one\n",
        "time\n",
        "runs\n",
        "since\n",
        "win\n",
        "still\n",
        "003\n",
        "cubs\n",
        " \n",
        "Concept 11:"
       ]
      },
      {
       "output_type": "stream",
       "stream": "stdout",
       "text": [
        "\n",
        "hit\n",
        "good\n",
        "gant\n",
        "first\n",
        "home\n",
        "dave\n",
        "games\n",
        "003\n",
        "even\n",
        "third\n",
        " \n",
        "Concept 12:"
       ]
      },
      {
       "output_type": "stream",
       "stream": "stdout",
       "text": [
        "\n",
        "games\n",
        "like\n",
        "new\n",
        "time\n",
        "team\n",
        "day\n",
        "players\n",
        "distribution\n",
        "right\n",
        "baseball\n",
        " \n",
        "Concept 13:"
       ]
      },
      {
       "output_type": "stream",
       "stream": "stdout",
       "text": [
        "\n",
        "year\n",
        "better\n",
        "good\n",
        "last\n",
        "hit\n",
        "get\n",
        "host\n",
        "left\n",
        "three\n",
        "know\n",
        " \n",
        "Concept 14:"
       ]
      },
      {
       "output_type": "stream",
       "stream": "stdout",
       "text": [
        "\n",
        "year\n",
        "good\n",
        "003 759\n",
        "player\n",
        "years\n",
        "pitching\n",
        "0023 lafayette lafayette\n",
        "little\n",
        "games\n",
        "season\n",
        " \n",
        "Concept 15:"
       ]
      },
      {
       "output_type": "stream",
       "stream": "stdout",
       "text": [
        "\n",
        "10\n",
        "hitter\n",
        "well\n",
        "better\n",
        "0023\n",
        "host\n",
        "pitcher\n",
        "long\n",
        "distribution\n",
        "003015 vmsb csupomona\n",
        " \n",
        "Concept 16:"
       ]
      },
      {
       "output_type": "stream",
       "stream": "stdout",
       "text": [
        "\n",
        "year\n",
        "time\n",
        "say\n",
        "003015\n",
        "princeton\n",
        "player\n",
        "fans\n",
        "0023\n",
        "pitcher\n",
        "run\n",
        " \n",
        "Concept 17:"
       ]
      },
      {
       "output_type": "stream",
       "stream": "stdout",
       "text": [
        "\n",
        "go\n",
        "new\n",
        "host\n",
        "003015\n",
        "0023 lafayette\n",
        "002 755 harris\n",
        "one\n",
        "game\n",
        "0023 lafayette lafayette\n",
        "003 759 lankford\n",
        " \n",
        "Concept 18:"
       ]
      },
      {
       "output_type": "stream",
       "stream": "stdout",
       "text": [
        "\n",
        "best\n",
        "time\n",
        "runs\n",
        "even\n",
        "003\n",
        "three\n",
        "bonds\n",
        "hitter\n",
        "003 759 lankford\n",
        "run\n",
        " \n",
        "Concept 19:"
       ]
      },
      {
       "output_type": "stream",
       "stream": "stdout",
       "text": [
        "\n",
        "first\n",
        "well\n",
        "003 759\n",
        "player\n",
        "003015 vmsb csupomona\n",
        "time\n",
        "teams\n",
        "better\n",
        "win\n",
        "003015\n",
        " \n",
        "Concept 20:"
       ]
      },
      {
       "output_type": "stream",
       "stream": "stdout",
       "text": [
        "\n",
        "hit\n",
        "one\n",
        "players\n",
        "003015 vmsb\n",
        "braves\n",
        "team\n",
        "last year\n",
        "hitter\n",
        "mark\n",
        "003015 vmsb csupomona\n",
        " \n",
        "Concept 21:"
       ]
      },
      {
       "output_type": "stream",
       "stream": "stdout",
       "text": [
        "\n",
        "first\n",
        "baseball\n",
        "distribution\n",
        "go\n",
        "003015 vmsb csupomona\n",
        "world\n",
        "see\n",
        "morris\n",
        "really\n",
        "even\n",
        " \n",
        "Concept 22:"
       ]
      },
      {
       "output_type": "stream",
       "stream": "stdout",
       "text": [
        "\n",
        "year\n",
        "003\n",
        "like\n",
        "003015\n",
        "day\n",
        "say\n",
        "way\n",
        "world\n",
        "won\n",
        "0023 lafayette lafayette\n",
        " \n",
        "Concept 23:"
       ]
      },
      {
       "output_type": "stream",
       "stream": "stdout",
       "text": [
        "\n",
        "game\n",
        "runs\n",
        "go\n",
        "good\n",
        "won\n",
        "say\n",
        "one\n",
        "way\n",
        "003015 vmsb\n",
        "sox\n",
        " \n",
        "Concept 24:"
       ]
      },
      {
       "output_type": "stream",
       "stream": "stdout",
       "text": [
        "\n",
        "players\n",
        "game\n",
        "braves\n",
        "last year\n",
        "get\n",
        "player\n",
        "even\n",
        "runs\n",
        "go\n",
        "well\n",
        " \n",
        "Concept 25:"
       ]
      },
      {
       "output_type": "stream",
       "stream": "stdout",
       "text": [
        "\n",
        "game\n",
        "baseball\n",
        "team\n",
        "0023\n",
        "sox\n",
        "year\n",
        "003 759\n",
        "003015\n",
        "003015 vmsb csupomona\n",
        "0023 lafayette\n",
        " \n",
        "Concept 26:"
       ]
      },
      {
       "output_type": "stream",
       "stream": "stdout",
       "text": [
        "\n",
        "well\n",
        "one\n",
        "games\n",
        "003 759 lankford\n",
        "know\n",
        "baseball\n",
        "time\n",
        "won\n",
        "people\n",
        "go\n",
        " \n"
       ]
      }
     ],
     "prompt_number": 191
    },
    {
     "cell_type": "code",
     "collapsed": false,
     "input": [],
     "language": "python",
     "metadata": {},
     "outputs": []
    }
   ],
   "metadata": {}
  }
 ]
}
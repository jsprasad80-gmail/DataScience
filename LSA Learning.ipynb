{
 "metadata": {
  "name": "",
  "signature": "sha256:9bedd4c0a25a4e0717f204500d6c5cadb4b04d4f05c77f32f8291a3d89aaa4cb"
 },
 "nbformat": 3,
 "nbformat_minor": 0,
 "worksheets": [
  {
   "cells": [
    {
     "cell_type": "code",
     "collapsed": false,
     "input": [
      "from bs4 import BeautifulSoup\n",
      "import nltk\n",
      "from nltk.corpus import stopwords\n",
      "from sklearn.feature_extraction.text import TfidfVectorizer\n",
      "from sklearn.decomposition import TruncatedSVD"
     ],
     "language": "python",
     "metadata": {},
     "outputs": [],
     "prompt_number": 1
    },
    {
     "cell_type": "code",
     "collapsed": false,
     "input": [
      "nltk.download('stopwords')"
     ],
     "language": "python",
     "metadata": {},
     "outputs": [
      {
       "output_type": "stream",
       "stream": "stdout",
       "text": [
        "[nltk_data] Downloading package stopwords to C:\\Users\\Priya\n",
        "[nltk_data]     Sundar\\AppData\\Roaming\\nltk_data...\n",
        "[nltk_data]   Package stopwords is already up-to-date!\n"
       ]
      },
      {
       "metadata": {},
       "output_type": "pyout",
       "prompt_number": 2,
       "text": [
        "True"
       ]
      }
     ],
     "prompt_number": 2
    },
    {
     "cell_type": "code",
     "collapsed": false,
     "input": [
      "    from sklearn.datasets import fetch_20newsgroups\n",
      "    categories = ['rec.sport.baseball']\n",
      "    dataset = fetch_20newsgroups(subset='all',shuffle=True, random_state=42, categories=categories)\n",
      "    corpus = dataset.data"
     ],
     "language": "python",
     "metadata": {},
     "outputs": [],
     "prompt_number": 3
    },
    {
     "cell_type": "code",
     "collapsed": false,
     "input": [
      "#soup = BeautifulSoup(corpus)\n",
      "#postTxt = soup.findAll('text')  #all posts <text> \n",
      "#postDocs = [x.text for x in postTxt]\n",
      "#postDocs.pop(0)\n",
      "#postDocs = [x.lower() for x in postDocs]\n",
      "postDocs = [x.lower() for x in corpus]"
     ],
     "language": "python",
     "metadata": {},
     "outputs": [],
     "prompt_number": 4
    },
    {
     "cell_type": "code",
     "collapsed": false,
     "input": [
      "stopset = set(stopwords.words('english'))\n",
      "stopset.update(['!', 'nntp', 'edu', \n",
      "'com', 'would', 're', 'cs', '00', 'detroit', 'american', 'jewish', 'john', 'also', 'posting', 'organization', 'university', 'ca',\n",
      "'might', 'ibm', 've', '01', 'let', 'much', 'make', '000', 'll', 'lines', 'subject', 'aix', 'nl', 'article', 'could', 'isn', 'may', 'smith', 'uiuc', 'give', 'writes'\n",
      "'think', 'netcom',  'sabo', 'williams', '000th', 'think', '0000ahc', 'udcps3', 'cps', '02', '03', '04', '05', '06', 'finley', '20', 'ted',\n",
      "'0010', 'doesn', 'writes', '001211', '001', 'lafibm', 'vb30', '002251w', 'hirschbeck'])"
     ],
     "language": "python",
     "metadata": {},
     "outputs": [],
     "prompt_number": 192
    },
    {
     "cell_type": "code",
     "collapsed": false,
     "input": [
      "#Before!\n",
      "corpus[7]"
     ],
     "language": "python",
     "metadata": {},
     "outputs": [
      {
       "metadata": {},
       "output_type": "pyout",
       "prompt_number": 193,
       "text": [
        "u\"From: gspira@nyx.cs.du.edu (Greg Spira)\\nSubject: Re: Jack Morris\\nOrganization: University of Denver, Dept. of Math & Comp. Sci.\\nLines: 42\\n\\nbwalker@bnr.ca (Barry Walker) writes:\\n\\n>In article <1993Apr19.032930.19811@ramsey.cs.laurentian.ca>, maynard@ramsey.cs.laurentian.ca (Roger Maynard) writes:\\n>|> In <1993Apr19.024222.11181@newshub.ariel.yorku.ca> cs902043@ariel.yorku.ca (SHAWN LUDDINGTON) writes:\\n>|> \\n>|> >Hey Valentine, I don't see Boston with any world series rings on their\\n>|> >fingers.  Damn, Morris now has three and probably the Hall of Fame in his \\n>|> >future.  Therefore, I would have to say Toronto easily made the best \\n>|> >signing.  And don't tell me Boston will win this year.  They won't \\n>|> >even be in the top 4 in the division, more like 6th.\\n>|>\\n\\n>In spite of what all the STAT heads say, Jack Morris played a large role in\\n>the Jays winning the World Series last year. I don't care if his era was 4.?\\n>he played a leadership role and did win 21 games. His ERA may have been high,\\n>but he did pitch many outstanding ball games.\\n\\nAnd he pitched many not-so-outstanding ballgames, too.\\n\\nJack essentially pitched a lot of .500 ball last year.  This certainly\\nisn't irrelevant, and iif you replace Morris with replacement level quality\\nthe Blue Jays might not win.\\n\\nRe leadership, I don't see it.  If the leadership effect is there for\\na starting pitcher, you would expect to see its primary effect on the\\npitching staff.  You would expect to see the rest of the staff improve.\\nInstead, the rest of the staff declined.\\n\\nYou can make a reasonable argument for Winfield providing leadership;\\nthe offense picked up considerably from its effectiveness the previous\\nyear. I'm not saying I buy that, but at least that argument makes\\ninternal sense.\\n\\nGreg \\n\\n\\n>Barry Walker\\n>BNR \\n>Ottawa\\n>Canada\\n\\n>My opinions\\n\""
       ]
      }
     ],
     "prompt_number": 193
    },
    {
     "cell_type": "code",
     "collapsed": false,
     "input": [
      "vectorizer = TfidfVectorizer(stop_words=stopset,\n",
      "                                 use_idf=True, ngram_range=(1, 4))\n",
      "X = vectorizer.fit_transform(postDocs)"
     ],
     "language": "python",
     "metadata": {},
     "outputs": [],
     "prompt_number": 208
    },
    {
     "cell_type": "code",
     "collapsed": false,
     "input": [
      "X[0]"
     ],
     "language": "python",
     "metadata": {},
     "outputs": [
      {
       "metadata": {},
       "output_type": "pyout",
       "prompt_number": 209,
       "text": [
        "<1x281008 sparse matrix of type '<type 'numpy.float64'>'\n",
        "\twith 277 stored elements in Compressed Sparse Row format>"
       ]
      }
     ],
     "prompt_number": 209
    },
    {
     "cell_type": "code",
     "collapsed": false,
     "input": [
      "#After\n",
      "print X[0]"
     ],
     "language": "python",
     "metadata": {},
     "outputs": [
      {
       "output_type": "stream",
       "stream": "stdout",
       "text": [
        "  (0, 279838)\t0.0643149779891\n",
        "  (0, 41765)\t0.0643149779891\n",
        "  (0, 217462)\t0.0643149779891\n",
        "  (0, 93748)\t0.0643149779891\n",
        "  (0, 114740)\t0.0643149779891\n",
        "  (0, 197588)\t0.0643149779891\n",
        "  (0, 152870)\t0.0643149779891\n",
        "  (0, 97346)\t0.0643149779891\n",
        "  (0, 169073)\t0.0643149779891\n",
        "  (0, 242595)\t0.0643149779891\n",
        "  (0, 269501)\t0.0643149779891\n",
        "  (0, 177614)\t0.0643149779891\n",
        "  (0, 93959)\t0.0643149779891\n",
        "  (0, 153670)\t0.0643149779891\n",
        "  (0, 142137)\t0.0643149779891\n",
        "  (0, 197444)\t0.0643149779891\n",
        "  (0, 213027)\t0.0643149779891\n",
        "  (0, 146330)\t0.0643149779891\n",
        "  (0, 170192)\t0.0643149779891\n",
        "  (0, 246308)\t0.0643149779891\n",
        "  (0, 88463)\t0.0643149779891\n",
        "  (0, 75669)\t0.0643149779891\n",
        "  (0, 52470)\t0.0643149779891\n",
        "  (0, 93944)\t0.0643149779891\n",
        "  (0, 75675)\t0.0643149779891\n",
        "  :\t:\n",
        "  (0, 249260)\t0.0395814154413\n",
        "  (0, 121687)\t0.0437741989105\n",
        "  (0, 277296)\t0.0196461536755\n",
        "  (0, 64160)\t0.0342761837893\n",
        "  (0, 47802)\t0.0469560058495\n",
        "  (0, 125149)\t0.0299687852915\n",
        "  (0, 213444)\t0.0483311450653\n",
        "  (0, 180966)\t0.0966622901306\n",
        "  (0, 55318)\t0.086677908399\n",
        "  (0, 60067)\t0.0915296121565\n",
        "  (0, 24477)\t0.0643149779891\n",
        "  (0, 141113)\t0.0966622901306\n",
        "  (0, 10249)\t0.0328572078907\n",
        "  (0, 243473)\t0.0531393964864\n",
        "  (0, 71205)\t0.0339737566237\n",
        "  (0, 260593)\t0.0342761837893\n",
        "  (0, 168754)\t0.0531393964864\n",
        "  (0, 236800)\t0.0325986174078\n",
        "  (0, 42558)\t0.0268059788859\n",
        "  (0, 99702)\t0.109029071404\n",
        "  (0, 75493)\t0.140868017548\n",
        "  (0, 57347)\t0.044231773413\n",
        "  (0, 57393)\t0.044231773413\n",
        "  (0, 147980)\t0.0433389541995\n",
        "  (0, 275834)\t0.0643149779891\n"
       ]
      }
     ],
     "prompt_number": 210
    },
    {
     "cell_type": "code",
     "collapsed": false,
     "input": [
      "X.shape"
     ],
     "language": "python",
     "metadata": {},
     "outputs": [
      {
       "metadata": {},
       "output_type": "pyout",
       "prompt_number": 211,
       "text": [
        "(994, 281008)"
       ]
      }
     ],
     "prompt_number": 211
    },
    {
     "cell_type": "code",
     "collapsed": false,
     "input": [
      "lsa = TruncatedSVD(n_components=27, n_iter=100)\n",
      "lsa.fit(X)"
     ],
     "language": "python",
     "metadata": {},
     "outputs": [
      {
       "metadata": {},
       "output_type": "pyout",
       "prompt_number": 212,
       "text": [
        "TruncatedSVD(algorithm='randomized', n_components=27, n_iter=100,\n",
        "       random_state=None, tol=0.0)"
       ]
      }
     ],
     "prompt_number": 212
    },
    {
     "cell_type": "code",
     "collapsed": false,
     "input": [
      "#This is the first row for V\n",
      "lsa.components_[0]"
     ],
     "language": "python",
     "metadata": {},
     "outputs": [
      {
       "metadata": {},
       "output_type": "pyout",
       "prompt_number": 213,
       "text": [
        "array([ 0.00031419,  0.00031419,  0.00031419, ...,  0.00111747,\n",
        "        0.00111747,  0.00111747])"
       ]
      }
     ],
     "prompt_number": 213
    },
    {
     "cell_type": "code",
     "collapsed": false,
     "input": [
      "terms = vectorizer.get_feature_names()\n",
      "for i, comp in enumerate(lsa.components_): \n",
      "    termsInComp = zip (terms,comp)\n",
      "    sortedTerms =  sorted(termsInComp, key=lambda x: x[1], reverse=True) [:10]\n",
      "    print \"Concept %d:\" % i\n",
      "    for term in sortedTerms:\n",
      "        print term[0]\n",
      "    print \" \""
     ],
     "language": "python",
     "metadata": {},
     "outputs": [
      {
       "output_type": "stream",
       "stream": "stdout",
       "text": [
        "Concept 0:\n",
        "year\n",
        "team\n",
        "game\n",
        "baseball\n",
        "players\n",
        "games\n",
        "one\n",
        "good\n",
        "last\n",
        "won\n",
        " \n",
        "Concept 1:"
       ]
      },
      {
       "output_type": "stream",
       "stream": "stdout",
       "text": [
        "\n",
        "lafayette\n",
        "baseball players\n",
        "come\n",
        "lowenstein\n",
        "sandy koufax\n",
        "stankowitz\n",
        "pablo\n",
        "maybe lowenstein\n",
        "scott\n",
        "koufax\n",
        " \n",
        "Concept 2:"
       ]
      },
      {
       "output_type": "stream",
       "stream": "stdout",
       "text": [
        "\n",
        "morris\n",
        "clutch\n",
        "one\n",
        "0023 lafayette lafayette\n",
        "well\n",
        "games\n",
        "samuel\n",
        "hit\n",
        "won\n",
        "performance\n",
        " \n",
        "Concept 3:"
       ]
      },
      {
       "output_type": "stream",
       "stream": "stdout",
       "text": [
        "\n",
        "gant\n",
        "know\n",
        "many\n",
        "clutch\n",
        "even\n",
        "people\n",
        "players\n",
        "us\n",
        "performance\n",
        "win\n",
        " \n",
        "Concept 4:"
       ]
      },
      {
       "output_type": "stream",
       "stream": "stdout",
       "text": [
        "\n",
        "hall\n",
        "team\n",
        "ball\n",
        "hall fame\n",
        "morris\n",
        "league\n",
        "kingman\n",
        "fame\n",
        "host\n",
        "know\n",
        " \n",
        "Concept 5:"
       ]
      },
      {
       "output_type": "stream",
       "stream": "stdout",
       "text": [
        "\n",
        "clutch\n",
        "year\n",
        "new\n",
        "scott\n",
        "bonds\n",
        "first\n",
        "believe\n",
        "get\n",
        "performance\n",
        "well\n",
        " \n",
        "Concept 6:"
       ]
      },
      {
       "output_type": "stream",
       "stream": "stdout",
       "text": [
        "\n",
        "team\n",
        "morris\n",
        "last\n",
        "003\n",
        "runs\n",
        "win\n",
        "new\n",
        "made\n",
        "around\n",
        "game\n",
        " \n",
        "Concept 7:"
       ]
      },
      {
       "output_type": "stream",
       "stream": "stdout",
       "text": [
        "\n",
        "games\n",
        "team\n",
        "003 759 lankford\n",
        "lot\n",
        "game\n",
        "runs\n",
        "fans\n",
        "pitcher\n",
        "002 755 harris\n",
        "time\n",
        " \n",
        "Concept 8:"
       ]
      },
      {
       "output_type": "stream",
       "stream": "stdout",
       "text": [
        "\n",
        "year\n",
        "game\n",
        "like\n",
        "time\n",
        "say\n",
        "first\n",
        "won\n",
        "bonds\n",
        "didn\n",
        "mike\n",
        " \n",
        "Concept 9:"
       ]
      },
      {
       "output_type": "stream",
       "stream": "stdout",
       "text": [
        "\n",
        "hit\n",
        "0023\n",
        "game\n",
        "play\n",
        "baseball\n",
        "0023 lafayette\n",
        "season\n",
        "team\n",
        "extra\n",
        "dcon\n",
        " \n",
        "Concept 10:"
       ]
      },
      {
       "output_type": "stream",
       "stream": "stdout",
       "text": [
        "\n",
        "one\n",
        "year\n",
        "morris\n",
        "0023 lafayette\n",
        "last\n",
        "002 755 harris 25\n",
        "boston\n",
        "like\n",
        "last year\n",
        "league\n",
        " \n",
        "Concept 11:"
       ]
      },
      {
       "output_type": "stream",
       "stream": "stdout",
       "text": [
        "\n",
        "like\n",
        "10\n",
        "runs\n",
        "one\n",
        "better\n",
        "0023 lafayette lafayette\n",
        "time\n",
        "players\n",
        "lost\n",
        "host\n",
        " \n",
        "Concept 12:"
       ]
      },
      {
       "output_type": "stream",
       "stream": "stdout",
       "text": [
        "\n",
        "year\n",
        "hit\n",
        "league\n",
        "player\n",
        "002 755 harris\n",
        "mail\n",
        "career\n",
        "runs\n",
        "two\n",
        "lopez\n",
        " \n",
        "Concept 13:"
       ]
      },
      {
       "output_type": "stream",
       "stream": "stdout",
       "text": [
        "\n",
        "get\n",
        "pitcher\n",
        "like\n",
        "0023 lafayette lafayette\n",
        "come\n",
        "won\n",
        "win\n",
        "host\n",
        "runs\n",
        "hit\n",
        " \n",
        "Concept 14:"
       ]
      },
      {
       "output_type": "stream",
       "stream": "stdout",
       "text": [
        "\n",
        "win\n",
        "won\n",
        "anyone\n",
        "hit\n",
        "kingston\n",
        "runs\n",
        "home\n",
        "roger\n",
        "pitcher\n",
        "002 755 harris 25\n",
        " \n",
        "Concept 15:"
       ]
      },
      {
       "output_type": "stream",
       "stream": "stdout",
       "text": [
        "\n",
        "like\n",
        "say\n",
        "lost\n",
        "better\n",
        "good\n",
        "0023 lafayette\n",
        "many\n",
        "look\n",
        "003\n",
        "runs\n",
        " \n",
        "Concept 16:"
       ]
      },
      {
       "output_type": "stream",
       "stream": "stdout",
       "text": [
        "\n",
        "better\n",
        "0023 lafayette\n",
        "time\n",
        "pitcher\n",
        "runs\n",
        "last year\n",
        "team\n",
        "long\n",
        "002 755 harris\n",
        "run\n",
        " \n",
        "Concept 17:"
       ]
      },
      {
       "output_type": "stream",
       "stream": "stdout",
       "text": [
        "\n",
        "0023\n",
        "know\n",
        "baseball\n",
        "hitter\n",
        "hitting\n",
        "runs\n",
        "roger\n",
        "last\n",
        "around\n",
        "two\n",
        " \n",
        "Concept 18:"
       ]
      },
      {
       "output_type": "stream",
       "stream": "stdout",
       "text": [
        "\n",
        "like\n",
        "win\n",
        "year\n",
        "0023 lafayette lafayette\n",
        "better\n",
        "get\n",
        "batting\n",
        "long\n",
        "come\n",
        "won\n",
        " \n",
        "Concept 19:"
       ]
      },
      {
       "output_type": "stream",
       "stream": "stdout",
       "text": [
        "\n",
        "game\n",
        "mets\n",
        "list\n",
        "002 755 harris 25\n",
        "pitch\n",
        "kingston\n",
        "dave\n",
        "league\n",
        "hit\n",
        "actually\n",
        " \n",
        "Concept 20:"
       ]
      },
      {
       "output_type": "stream",
       "stream": "stdout",
       "text": [
        "\n",
        "hit\n",
        "run\n",
        "host\n",
        "games\n",
        "first\n",
        "0023\n",
        "0023 lafayette\n",
        "like\n",
        "003 759 lankford\n",
        "many\n",
        " \n",
        "Concept 21:"
       ]
      },
      {
       "output_type": "stream",
       "stream": "stdout",
       "text": [
        "\n",
        "team\n",
        "game\n",
        "last\n",
        "002 755 harris\n",
        "0023 lafayette lafayette\n",
        "host\n",
        "002 755 harris 25\n",
        "like\n",
        "run\n",
        "better\n",
        " \n",
        "Concept 22:"
       ]
      },
      {
       "output_type": "stream",
       "stream": "stdout",
       "text": [
        "\n",
        "team\n",
        "first\n",
        "win\n",
        "like\n",
        "season\n",
        "pitching\n",
        "pitchers\n",
        "hitting\n",
        "roger\n",
        "never\n",
        " \n",
        "Concept 23:"
       ]
      },
      {
       "output_type": "stream",
       "stream": "stdout",
       "text": [
        "\n",
        "year\n",
        "one\n",
        "team\n",
        "first\n",
        "games\n",
        "baseball\n",
        "long\n",
        "host\n",
        "really\n",
        "lost\n",
        " \n",
        "Concept 24:"
       ]
      },
      {
       "output_type": "stream",
       "stream": "stdout",
       "text": [
        "\n",
        "0023 lafayette lafayette\n",
        "game\n",
        "ball\n",
        "baseball\n",
        "pitching\n",
        "003 759 lankford 39\n",
        "hit\n",
        "player\n",
        "distribution\n",
        "time\n",
        " \n",
        "Concept 25:"
       ]
      },
      {
       "output_type": "stream",
       "stream": "stdout",
       "text": [
        "\n",
        "0023\n",
        "well\n",
        "002 755 harris\n",
        "really\n",
        "two\n",
        "game\n",
        "10\n",
        "see\n",
        "sox\n",
        "like\n",
        " \n",
        "Concept 26:"
       ]
      },
      {
       "output_type": "stream",
       "stream": "stdout",
       "text": [
        "\n",
        "002 755 harris 25\n",
        "game\n",
        "year\n",
        "003 759 lankford\n",
        "well\n",
        "time\n",
        "0023 lafayette\n",
        "better\n",
        "0023\n",
        "york\n",
        " \n"
       ]
      }
     ],
     "prompt_number": 214
    },
    {
     "cell_type": "code",
     "collapsed": false,
     "input": [],
     "language": "python",
     "metadata": {},
     "outputs": []
    }
   ],
   "metadata": {}
  }
 ]
}